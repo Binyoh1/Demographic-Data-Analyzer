{
 "cells": [
  {
   "cell_type": "code",
   "metadata": {
    "tags": [],
    "cell_id": "36ac8bd4-faae-42f7-b919-279454410479",
    "deepnote_to_be_reexecuted": false,
    "source_hash": "91a42f23",
    "execution_start": 1659418393358,
    "execution_millis": 3209,
    "owner_user_id": "6a9143c6-8c98-45c0-a97f-ee8fe32b76a6",
    "deepnote_cell_type": "code",
    "deepnote_cell_height": 166
   },
   "source": "import numpy as np\nimport pandas as pd\nimport matplotlib.pyplot as plt\n%matplotlib inline\nimport seaborn as sns\nimport plotly.express as px",
   "outputs": [],
   "execution_count": null
  },
  {
   "cell_type": "markdown",
   "source": "### Import and General Data Info",
   "metadata": {
    "cell_id": "471fb093bd0c48caa37c4c92e4d673eb",
    "tags": [],
    "deepnote_cell_type": "markdown",
    "deepnote_cell_height": 62
   }
  },
  {
   "cell_type": "code",
   "metadata": {
    "cell_id": "5e6b0fe1320b415b84228e95b5c8d6e0",
    "tags": [],
    "deepnote_to_be_reexecuted": false,
    "source_hash": "cdeb68dd",
    "execution_start": 1659418396574,
    "execution_millis": 199,
    "deepnote_cell_type": "code",
    "deepnote_cell_height": 425
   },
   "source": "df = pd.read_csv('/work/datasets/adult.data.csv')\ndf.head()",
   "outputs": [
    {
     "output_type": "execute_result",
     "execution_count": 2,
     "data": {
      "application/vnd.deepnote.dataframe.v3+json": {
       "column_count": 15,
       "row_count": 5,
       "columns": [
        {
         "name": "age",
         "dtype": "int64",
         "stats": {
          "unique_count": 5,
          "nan_count": 0,
          "min": "28",
          "max": "53",
          "histogram": [
           {
            "bin_start": 28,
            "bin_end": 30.5,
            "count": 1
           },
           {
            "bin_start": 30.5,
            "bin_end": 33,
            "count": 0
           },
           {
            "bin_start": 33,
            "bin_end": 35.5,
            "count": 0
           },
           {
            "bin_start": 35.5,
            "bin_end": 38,
            "count": 0
           },
           {
            "bin_start": 38,
            "bin_end": 40.5,
            "count": 2
           },
           {
            "bin_start": 40.5,
            "bin_end": 43,
            "count": 0
           },
           {
            "bin_start": 43,
            "bin_end": 45.5,
            "count": 0
           },
           {
            "bin_start": 45.5,
            "bin_end": 48,
            "count": 0
           },
           {
            "bin_start": 48,
            "bin_end": 50.5,
            "count": 1
           },
           {
            "bin_start": 50.5,
            "bin_end": 53,
            "count": 1
           }
          ]
         }
        },
        {
         "name": "workclass",
         "dtype": "object",
         "stats": {
          "unique_count": 3,
          "nan_count": 0,
          "categories": [
           {
            "name": "Private",
            "count": 3
           },
           {
            "name": "State-gov",
            "count": 1
           },
           {
            "name": "Self-emp-not-inc",
            "count": 1
           }
          ]
         }
        },
        {
         "name": "fnlwgt",
         "dtype": "int64",
         "stats": {
          "unique_count": 5,
          "nan_count": 0,
          "min": "77516",
          "max": "338409",
          "histogram": [
           {
            "bin_start": 77516,
            "bin_end": 103605.3,
            "count": 2
           },
           {
            "bin_start": 103605.3,
            "bin_end": 129694.6,
            "count": 0
           },
           {
            "bin_start": 129694.6,
            "bin_end": 155783.9,
            "count": 0
           },
           {
            "bin_start": 155783.9,
            "bin_end": 181873.2,
            "count": 0
           },
           {
            "bin_start": 181873.2,
            "bin_end": 207962.5,
            "count": 0
           },
           {
            "bin_start": 207962.5,
            "bin_end": 234051.8,
            "count": 1
           },
           {
            "bin_start": 234051.8,
            "bin_end": 260141.1,
            "count": 1
           },
           {
            "bin_start": 260141.1,
            "bin_end": 286230.4,
            "count": 0
           },
           {
            "bin_start": 286230.4,
            "bin_end": 312319.69999999995,
            "count": 0
           },
           {
            "bin_start": 312319.69999999995,
            "bin_end": 338409,
            "count": 1
           }
          ]
         }
        },
        {
         "name": "education",
         "dtype": "object",
         "stats": {
          "unique_count": 3,
          "nan_count": 0,
          "categories": [
           {
            "name": "Bachelors",
            "count": 3
           },
           {
            "name": "HS-grad",
            "count": 1
           },
           {
            "name": "11th",
            "count": 1
           }
          ]
         }
        },
        {
         "name": "education-num",
         "dtype": "int64",
         "stats": {
          "unique_count": 3,
          "nan_count": 0,
          "min": "7",
          "max": "13",
          "histogram": [
           {
            "bin_start": 7,
            "bin_end": 7.6,
            "count": 1
           },
           {
            "bin_start": 7.6,
            "bin_end": 8.2,
            "count": 0
           },
           {
            "bin_start": 8.2,
            "bin_end": 8.8,
            "count": 0
           },
           {
            "bin_start": 8.8,
            "bin_end": 9.4,
            "count": 1
           },
           {
            "bin_start": 9.4,
            "bin_end": 10,
            "count": 0
           },
           {
            "bin_start": 10,
            "bin_end": 10.6,
            "count": 0
           },
           {
            "bin_start": 10.6,
            "bin_end": 11.2,
            "count": 0
           },
           {
            "bin_start": 11.2,
            "bin_end": 11.8,
            "count": 0
           },
           {
            "bin_start": 11.8,
            "bin_end": 12.399999999999999,
            "count": 0
           },
           {
            "bin_start": 12.399999999999999,
            "bin_end": 13,
            "count": 3
           }
          ]
         }
        },
        {
         "name": "marital-status",
         "dtype": "object",
         "stats": {
          "unique_count": 3,
          "nan_count": 0,
          "categories": [
           {
            "name": "Married-civ-spouse",
            "count": 3
           },
           {
            "name": "Never-married",
            "count": 1
           },
           {
            "name": "Divorced",
            "count": 1
           }
          ]
         }
        },
        {
         "name": "occupation",
         "dtype": "object",
         "stats": {
          "unique_count": 4,
          "nan_count": 0,
          "categories": [
           {
            "name": "Handlers-cleaners",
            "count": 2
           },
           {
            "name": "Adm-clerical",
            "count": 1
           },
           {
            "name": "2 others",
            "count": 2
           }
          ]
         }
        },
        {
         "name": "relationship",
         "dtype": "object",
         "stats": {
          "unique_count": 3,
          "nan_count": 0,
          "categories": [
           {
            "name": "Not-in-family",
            "count": 2
           },
           {
            "name": "Husband",
            "count": 2
           },
           {
            "name": "Wife",
            "count": 1
           }
          ]
         }
        },
        {
         "name": "race",
         "dtype": "object",
         "stats": {
          "unique_count": 2,
          "nan_count": 0,
          "categories": [
           {
            "name": "White",
            "count": 3
           },
           {
            "name": "Black",
            "count": 2
           }
          ]
         }
        },
        {
         "name": "sex",
         "dtype": "object",
         "stats": {
          "unique_count": 2,
          "nan_count": 0,
          "categories": [
           {
            "name": "Male",
            "count": 4
           },
           {
            "name": "Female",
            "count": 1
           }
          ]
         }
        },
        {
         "name": "capital-gain",
         "dtype": "int64",
         "stats": {
          "unique_count": 2,
          "nan_count": 0,
          "min": "0",
          "max": "2174",
          "histogram": [
           {
            "bin_start": 0,
            "bin_end": 217.4,
            "count": 4
           },
           {
            "bin_start": 217.4,
            "bin_end": 434.8,
            "count": 0
           },
           {
            "bin_start": 434.8,
            "bin_end": 652.2,
            "count": 0
           },
           {
            "bin_start": 652.2,
            "bin_end": 869.6,
            "count": 0
           },
           {
            "bin_start": 869.6,
            "bin_end": 1087,
            "count": 0
           },
           {
            "bin_start": 1087,
            "bin_end": 1304.4,
            "count": 0
           },
           {
            "bin_start": 1304.4,
            "bin_end": 1521.8,
            "count": 0
           },
           {
            "bin_start": 1521.8,
            "bin_end": 1739.2,
            "count": 0
           },
           {
            "bin_start": 1739.2,
            "bin_end": 1956.6000000000001,
            "count": 0
           },
           {
            "bin_start": 1956.6000000000001,
            "bin_end": 2174,
            "count": 1
           }
          ]
         }
        },
        {
         "name": "capital-loss",
         "dtype": "int64",
         "stats": {
          "unique_count": 1,
          "nan_count": 0,
          "min": "0",
          "max": "0",
          "histogram": [
           {
            "bin_start": -0.5,
            "bin_end": -0.4,
            "count": 0
           },
           {
            "bin_start": -0.4,
            "bin_end": -0.3,
            "count": 0
           },
           {
            "bin_start": -0.3,
            "bin_end": -0.19999999999999996,
            "count": 0
           },
           {
            "bin_start": -0.19999999999999996,
            "bin_end": -0.09999999999999998,
            "count": 0
           },
           {
            "bin_start": -0.09999999999999998,
            "bin_end": 0,
            "count": 0
           },
           {
            "bin_start": 0,
            "bin_end": 0.10000000000000009,
            "count": 5
           },
           {
            "bin_start": 0.10000000000000009,
            "bin_end": 0.20000000000000007,
            "count": 0
           },
           {
            "bin_start": 0.20000000000000007,
            "bin_end": 0.30000000000000004,
            "count": 0
           },
           {
            "bin_start": 0.30000000000000004,
            "bin_end": 0.4,
            "count": 0
           },
           {
            "bin_start": 0.4,
            "bin_end": 0.5,
            "count": 0
           }
          ]
         }
        },
        {
         "name": "hours-per-week",
         "dtype": "int64",
         "stats": {
          "unique_count": 2,
          "nan_count": 0,
          "min": "13",
          "max": "40",
          "histogram": [
           {
            "bin_start": 13,
            "bin_end": 15.7,
            "count": 1
           },
           {
            "bin_start": 15.7,
            "bin_end": 18.4,
            "count": 0
           },
           {
            "bin_start": 18.4,
            "bin_end": 21.1,
            "count": 0
           },
           {
            "bin_start": 21.1,
            "bin_end": 23.8,
            "count": 0
           },
           {
            "bin_start": 23.8,
            "bin_end": 26.5,
            "count": 0
           },
           {
            "bin_start": 26.5,
            "bin_end": 29.200000000000003,
            "count": 0
           },
           {
            "bin_start": 29.200000000000003,
            "bin_end": 31.900000000000002,
            "count": 0
           },
           {
            "bin_start": 31.900000000000002,
            "bin_end": 34.6,
            "count": 0
           },
           {
            "bin_start": 34.6,
            "bin_end": 37.3,
            "count": 0
           },
           {
            "bin_start": 37.3,
            "bin_end": 40,
            "count": 4
           }
          ]
         }
        },
        {
         "name": "native-country",
         "dtype": "object",
         "stats": {
          "unique_count": 2,
          "nan_count": 0,
          "categories": [
           {
            "name": "United-States",
            "count": 4
           },
           {
            "name": "Cuba",
            "count": 1
           }
          ]
         }
        },
        {
         "name": "salary",
         "dtype": "object",
         "stats": {
          "unique_count": 1,
          "nan_count": 0,
          "categories": [
           {
            "name": "<=50K",
            "count": 5
           }
          ]
         }
        },
        {
         "name": "_deepnote_index_column",
         "dtype": "int64"
        }
       ],
       "rows": [
        {
         "age": 39,
         "workclass": "State-gov",
         "fnlwgt": 77516,
         "education": "Bachelors",
         "education-num": 13,
         "marital-status": "Never-married",
         "occupation": "Adm-clerical",
         "relationship": "Not-in-family",
         "race": "White",
         "sex": "Male",
         "capital-gain": 2174,
         "capital-loss": 0,
         "hours-per-week": 40,
         "native-country": "United-States",
         "salary": "<=50K",
         "_deepnote_index_column": 0
        },
        {
         "age": 50,
         "workclass": "Self-emp-not-inc",
         "fnlwgt": 83311,
         "education": "Bachelors",
         "education-num": 13,
         "marital-status": "Married-civ-spouse",
         "occupation": "Exec-managerial",
         "relationship": "Husband",
         "race": "White",
         "sex": "Male",
         "capital-gain": 0,
         "capital-loss": 0,
         "hours-per-week": 13,
         "native-country": "United-States",
         "salary": "<=50K",
         "_deepnote_index_column": 1
        },
        {
         "age": 38,
         "workclass": "Private",
         "fnlwgt": 215646,
         "education": "HS-grad",
         "education-num": 9,
         "marital-status": "Divorced",
         "occupation": "Handlers-cleaners",
         "relationship": "Not-in-family",
         "race": "White",
         "sex": "Male",
         "capital-gain": 0,
         "capital-loss": 0,
         "hours-per-week": 40,
         "native-country": "United-States",
         "salary": "<=50K",
         "_deepnote_index_column": 2
        },
        {
         "age": 53,
         "workclass": "Private",
         "fnlwgt": 234721,
         "education": "11th",
         "education-num": 7,
         "marital-status": "Married-civ-spouse",
         "occupation": "Handlers-cleaners",
         "relationship": "Husband",
         "race": "Black",
         "sex": "Male",
         "capital-gain": 0,
         "capital-loss": 0,
         "hours-per-week": 40,
         "native-country": "United-States",
         "salary": "<=50K",
         "_deepnote_index_column": 3
        },
        {
         "age": 28,
         "workclass": "Private",
         "fnlwgt": 338409,
         "education": "Bachelors",
         "education-num": 13,
         "marital-status": "Married-civ-spouse",
         "occupation": "Prof-specialty",
         "relationship": "Wife",
         "race": "Black",
         "sex": "Female",
         "capital-gain": 0,
         "capital-loss": 0,
         "hours-per-week": 40,
         "native-country": "Cuba",
         "salary": "<=50K",
         "_deepnote_index_column": 4
        }
       ]
      },
      "text/plain": "   age         workclass  fnlwgt  education  education-num  \\\n0   39         State-gov   77516  Bachelors             13   \n1   50  Self-emp-not-inc   83311  Bachelors             13   \n2   38           Private  215646    HS-grad              9   \n3   53           Private  234721       11th              7   \n4   28           Private  338409  Bachelors             13   \n\n       marital-status         occupation   relationship   race     sex  \\\n0       Never-married       Adm-clerical  Not-in-family  White    Male   \n1  Married-civ-spouse    Exec-managerial        Husband  White    Male   \n2            Divorced  Handlers-cleaners  Not-in-family  White    Male   \n3  Married-civ-spouse  Handlers-cleaners        Husband  Black    Male   \n4  Married-civ-spouse     Prof-specialty           Wife  Black  Female   \n\n   capital-gain  capital-loss  hours-per-week native-country salary  \n0          2174             0              40  United-States  <=50K  \n1             0             0              13  United-States  <=50K  \n2             0             0              40  United-States  <=50K  \n3             0             0              40  United-States  <=50K  \n4             0             0              40           Cuba  <=50K  ",
      "text/html": "<div>\n<style scoped>\n    .dataframe tbody tr th:only-of-type {\n        vertical-align: middle;\n    }\n\n    .dataframe tbody tr th {\n        vertical-align: top;\n    }\n\n    .dataframe thead th {\n        text-align: right;\n    }\n</style>\n<table border=\"1\" class=\"dataframe\">\n  <thead>\n    <tr style=\"text-align: right;\">\n      <th></th>\n      <th>age</th>\n      <th>workclass</th>\n      <th>fnlwgt</th>\n      <th>education</th>\n      <th>education-num</th>\n      <th>marital-status</th>\n      <th>occupation</th>\n      <th>relationship</th>\n      <th>race</th>\n      <th>sex</th>\n      <th>capital-gain</th>\n      <th>capital-loss</th>\n      <th>hours-per-week</th>\n      <th>native-country</th>\n      <th>salary</th>\n    </tr>\n  </thead>\n  <tbody>\n    <tr>\n      <th>0</th>\n      <td>39</td>\n      <td>State-gov</td>\n      <td>77516</td>\n      <td>Bachelors</td>\n      <td>13</td>\n      <td>Never-married</td>\n      <td>Adm-clerical</td>\n      <td>Not-in-family</td>\n      <td>White</td>\n      <td>Male</td>\n      <td>2174</td>\n      <td>0</td>\n      <td>40</td>\n      <td>United-States</td>\n      <td>&lt;=50K</td>\n    </tr>\n    <tr>\n      <th>1</th>\n      <td>50</td>\n      <td>Self-emp-not-inc</td>\n      <td>83311</td>\n      <td>Bachelors</td>\n      <td>13</td>\n      <td>Married-civ-spouse</td>\n      <td>Exec-managerial</td>\n      <td>Husband</td>\n      <td>White</td>\n      <td>Male</td>\n      <td>0</td>\n      <td>0</td>\n      <td>13</td>\n      <td>United-States</td>\n      <td>&lt;=50K</td>\n    </tr>\n    <tr>\n      <th>2</th>\n      <td>38</td>\n      <td>Private</td>\n      <td>215646</td>\n      <td>HS-grad</td>\n      <td>9</td>\n      <td>Divorced</td>\n      <td>Handlers-cleaners</td>\n      <td>Not-in-family</td>\n      <td>White</td>\n      <td>Male</td>\n      <td>0</td>\n      <td>0</td>\n      <td>40</td>\n      <td>United-States</td>\n      <td>&lt;=50K</td>\n    </tr>\n    <tr>\n      <th>3</th>\n      <td>53</td>\n      <td>Private</td>\n      <td>234721</td>\n      <td>11th</td>\n      <td>7</td>\n      <td>Married-civ-spouse</td>\n      <td>Handlers-cleaners</td>\n      <td>Husband</td>\n      <td>Black</td>\n      <td>Male</td>\n      <td>0</td>\n      <td>0</td>\n      <td>40</td>\n      <td>United-States</td>\n      <td>&lt;=50K</td>\n    </tr>\n    <tr>\n      <th>4</th>\n      <td>28</td>\n      <td>Private</td>\n      <td>338409</td>\n      <td>Bachelors</td>\n      <td>13</td>\n      <td>Married-civ-spouse</td>\n      <td>Prof-specialty</td>\n      <td>Wife</td>\n      <td>Black</td>\n      <td>Female</td>\n      <td>0</td>\n      <td>0</td>\n      <td>40</td>\n      <td>Cuba</td>\n      <td>&lt;=50K</td>\n    </tr>\n  </tbody>\n</table>\n</div>"
     },
     "metadata": {}
    }
   ],
   "execution_count": null
  },
  {
   "cell_type": "code",
   "source": "df.info()",
   "metadata": {
    "cell_id": "693b102b629f4b09a7845f2a964aba02",
    "tags": [],
    "deepnote_to_be_reexecuted": false,
    "source_hash": "de1e323c",
    "execution_start": 1659418396775,
    "execution_millis": 62,
    "deepnote_cell_type": "code",
    "deepnote_cell_height": 527,
    "deepnote_output_heights": [
     611
    ]
   },
   "outputs": [
    {
     "name": "stdout",
     "text": "<class 'pandas.core.frame.DataFrame'>\nRangeIndex: 32561 entries, 0 to 32560\nData columns (total 15 columns):\n #   Column          Non-Null Count  Dtype \n---  ------          --------------  ----- \n 0   age             32561 non-null  int64 \n 1   workclass       32561 non-null  object\n 2   fnlwgt          32561 non-null  int64 \n 3   education       32561 non-null  object\n 4   education-num   32561 non-null  int64 \n 5   marital-status  32561 non-null  object\n 6   occupation      32561 non-null  object\n 7   relationship    32561 non-null  object\n 8   race            32561 non-null  object\n 9   sex             32561 non-null  object\n 10  capital-gain    32561 non-null  int64 \n 11  capital-loss    32561 non-null  int64 \n 12  hours-per-week  32561 non-null  int64 \n 13  native-country  32561 non-null  object\n 14  salary          32561 non-null  object\ndtypes: int64(6), object(9)\nmemory usage: 3.7+ MB\n",
     "output_type": "stream"
    }
   ],
   "execution_count": null
  },
  {
   "cell_type": "code",
   "source": "df.describe()",
   "metadata": {
    "cell_id": "5bcb0f2687bd4bbebb8a37cb75d07006",
    "tags": [],
    "deepnote_to_be_reexecuted": false,
    "source_hash": "f88152d9",
    "execution_start": 1659418396841,
    "execution_millis": 120,
    "deepnote_cell_type": "code",
    "deepnote_cell_height": 513
   },
   "outputs": [
    {
     "output_type": "execute_result",
     "execution_count": 4,
     "data": {
      "application/vnd.deepnote.dataframe.v3+json": {
       "column_count": 6,
       "row_count": 8,
       "columns": [
        {
         "name": "age",
         "dtype": "float64",
         "stats": {
          "unique_count": 8,
          "nan_count": 0,
          "min": "13.640432553581341",
          "max": "32561.0",
          "histogram": [
           {
            "bin_start": 13.640432553581341,
            "bin_end": 3268.3763892982233,
            "count": 7
           },
           {
            "bin_start": 3268.3763892982233,
            "bin_end": 6523.112346042865,
            "count": 0
           },
           {
            "bin_start": 6523.112346042865,
            "bin_end": 9777.848302787506,
            "count": 0
           },
           {
            "bin_start": 9777.848302787506,
            "bin_end": 13032.584259532148,
            "count": 0
           },
           {
            "bin_start": 13032.584259532148,
            "bin_end": 16287.32021627679,
            "count": 0
           },
           {
            "bin_start": 16287.32021627679,
            "bin_end": 19542.056173021432,
            "count": 0
           },
           {
            "bin_start": 19542.056173021432,
            "bin_end": 22796.792129766076,
            "count": 0
           },
           {
            "bin_start": 22796.792129766076,
            "bin_end": 26051.528086510716,
            "count": 0
           },
           {
            "bin_start": 26051.528086510716,
            "bin_end": 29306.264043255356,
            "count": 0
           },
           {
            "bin_start": 29306.264043255356,
            "bin_end": 32561,
            "count": 1
           }
          ]
         }
        },
        {
         "name": "fnlwgt",
         "dtype": "float64",
         "stats": {
          "unique_count": 8,
          "nan_count": 0,
          "min": "12285.0",
          "max": "1484705.0",
          "histogram": [
           {
            "bin_start": 12285,
            "bin_end": 159527,
            "count": 4
           },
           {
            "bin_start": 159527,
            "bin_end": 306769,
            "count": 3
           },
           {
            "bin_start": 306769,
            "bin_end": 454011,
            "count": 0
           },
           {
            "bin_start": 454011,
            "bin_end": 601253,
            "count": 0
           },
           {
            "bin_start": 601253,
            "bin_end": 748495,
            "count": 0
           },
           {
            "bin_start": 748495,
            "bin_end": 895737,
            "count": 0
           },
           {
            "bin_start": 895737,
            "bin_end": 1042979,
            "count": 0
           },
           {
            "bin_start": 1042979,
            "bin_end": 1190221,
            "count": 0
           },
           {
            "bin_start": 1190221,
            "bin_end": 1337463,
            "count": 0
           },
           {
            "bin_start": 1337463,
            "bin_end": 1484705,
            "count": 1
           }
          ]
         }
        },
        {
         "name": "education-num",
         "dtype": "float64",
         "stats": {
          "unique_count": 8,
          "nan_count": 0,
          "min": "1.0",
          "max": "32561.0",
          "histogram": [
           {
            "bin_start": 1,
            "bin_end": 3257,
            "count": 7
           },
           {
            "bin_start": 3257,
            "bin_end": 6513,
            "count": 0
           },
           {
            "bin_start": 6513,
            "bin_end": 9769,
            "count": 0
           },
           {
            "bin_start": 9769,
            "bin_end": 13025,
            "count": 0
           },
           {
            "bin_start": 13025,
            "bin_end": 16281,
            "count": 0
           },
           {
            "bin_start": 16281,
            "bin_end": 19537,
            "count": 0
           },
           {
            "bin_start": 19537,
            "bin_end": 22793,
            "count": 0
           },
           {
            "bin_start": 22793,
            "bin_end": 26049,
            "count": 0
           },
           {
            "bin_start": 26049,
            "bin_end": 29305,
            "count": 0
           },
           {
            "bin_start": 29305,
            "bin_end": 32561,
            "count": 1
           }
          ]
         }
        },
        {
         "name": "capital-gain",
         "dtype": "float64",
         "stats": {
          "unique_count": 5,
          "nan_count": 0,
          "min": "0.0",
          "max": "99999.0",
          "histogram": [
           {
            "bin_start": 0,
            "bin_end": 9999.9,
            "count": 6
           },
           {
            "bin_start": 9999.9,
            "bin_end": 19999.8,
            "count": 0
           },
           {
            "bin_start": 19999.8,
            "bin_end": 29999.699999999997,
            "count": 0
           },
           {
            "bin_start": 29999.699999999997,
            "bin_end": 39999.6,
            "count": 1
           },
           {
            "bin_start": 39999.6,
            "bin_end": 49999.5,
            "count": 0
           },
           {
            "bin_start": 49999.5,
            "bin_end": 59999.399999999994,
            "count": 0
           },
           {
            "bin_start": 59999.399999999994,
            "bin_end": 69999.3,
            "count": 0
           },
           {
            "bin_start": 69999.3,
            "bin_end": 79999.2,
            "count": 0
           },
           {
            "bin_start": 79999.2,
            "bin_end": 89999.09999999999,
            "count": 0
           },
           {
            "bin_start": 89999.09999999999,
            "bin_end": 99999,
            "count": 1
           }
          ]
         }
        },
        {
         "name": "capital-loss",
         "dtype": "float64",
         "stats": {
          "unique_count": 5,
          "nan_count": 0,
          "min": "0.0",
          "max": "32561.0",
          "histogram": [
           {
            "bin_start": 0,
            "bin_end": 3256.1,
            "count": 6
           },
           {
            "bin_start": 3256.1,
            "bin_end": 6512.2,
            "count": 1
           },
           {
            "bin_start": 6512.2,
            "bin_end": 9768.3,
            "count": 0
           },
           {
            "bin_start": 9768.3,
            "bin_end": 13024.4,
            "count": 0
           },
           {
            "bin_start": 13024.4,
            "bin_end": 16280.5,
            "count": 0
           },
           {
            "bin_start": 16280.5,
            "bin_end": 19536.6,
            "count": 0
           },
           {
            "bin_start": 19536.6,
            "bin_end": 22792.7,
            "count": 0
           },
           {
            "bin_start": 22792.7,
            "bin_end": 26048.8,
            "count": 0
           },
           {
            "bin_start": 26048.8,
            "bin_end": 29304.899999999998,
            "count": 0
           },
           {
            "bin_start": 29304.899999999998,
            "bin_end": 32561,
            "count": 1
           }
          ]
         }
        },
        {
         "name": "hours-per-week",
         "dtype": "float64",
         "stats": {
          "unique_count": 7,
          "nan_count": 0,
          "min": "1.0",
          "max": "32561.0",
          "histogram": [
           {
            "bin_start": 1,
            "bin_end": 3257,
            "count": 7
           },
           {
            "bin_start": 3257,
            "bin_end": 6513,
            "count": 0
           },
           {
            "bin_start": 6513,
            "bin_end": 9769,
            "count": 0
           },
           {
            "bin_start": 9769,
            "bin_end": 13025,
            "count": 0
           },
           {
            "bin_start": 13025,
            "bin_end": 16281,
            "count": 0
           },
           {
            "bin_start": 16281,
            "bin_end": 19537,
            "count": 0
           },
           {
            "bin_start": 19537,
            "bin_end": 22793,
            "count": 0
           },
           {
            "bin_start": 22793,
            "bin_end": 26049,
            "count": 0
           },
           {
            "bin_start": 26049,
            "bin_end": 29305,
            "count": 0
           },
           {
            "bin_start": 29305,
            "bin_end": 32561,
            "count": 1
           }
          ]
         }
        },
        {
         "name": "_deepnote_index_column",
         "dtype": "object"
        }
       ],
       "rows": [
        {
         "age": 32561,
         "fnlwgt": 32561,
         "education-num": 32561,
         "capital-gain": 32561,
         "capital-loss": 32561,
         "hours-per-week": 32561,
         "_deepnote_index_column": "count"
        },
        {
         "age": 38.58164675532078,
         "fnlwgt": 189778.36651208502,
         "education-num": 10.0806793403151,
         "capital-gain": 1077.6488437087312,
         "capital-loss": 87.303829734959,
         "hours-per-week": 40.437455852092995,
         "_deepnote_index_column": "mean"
        },
        {
         "age": 13.640432553581341,
         "fnlwgt": 105549.97769702224,
         "education-num": 2.5727203320673877,
         "capital-gain": 7385.292084840338,
         "capital-loss": 402.9602186489998,
         "hours-per-week": 12.347428681731843,
         "_deepnote_index_column": "std"
        },
        {
         "age": 17,
         "fnlwgt": 12285,
         "education-num": 1,
         "capital-gain": 0,
         "capital-loss": 0,
         "hours-per-week": 1,
         "_deepnote_index_column": "min"
        },
        {
         "age": 28,
         "fnlwgt": 117827,
         "education-num": 9,
         "capital-gain": 0,
         "capital-loss": 0,
         "hours-per-week": 40,
         "_deepnote_index_column": "25%"
        },
        {
         "age": 37,
         "fnlwgt": 178356,
         "education-num": 10,
         "capital-gain": 0,
         "capital-loss": 0,
         "hours-per-week": 40,
         "_deepnote_index_column": "50%"
        },
        {
         "age": 48,
         "fnlwgt": 237051,
         "education-num": 12,
         "capital-gain": 0,
         "capital-loss": 0,
         "hours-per-week": 45,
         "_deepnote_index_column": "75%"
        },
        {
         "age": 90,
         "fnlwgt": 1484705,
         "education-num": 16,
         "capital-gain": 99999,
         "capital-loss": 4356,
         "hours-per-week": 99,
         "_deepnote_index_column": "max"
        }
       ]
      },
      "text/plain": "                age        fnlwgt  education-num  capital-gain  capital-loss  \\\ncount  32561.000000  3.256100e+04   32561.000000  32561.000000  32561.000000   \nmean      38.581647  1.897784e+05      10.080679   1077.648844     87.303830   \nstd       13.640433  1.055500e+05       2.572720   7385.292085    402.960219   \nmin       17.000000  1.228500e+04       1.000000      0.000000      0.000000   \n25%       28.000000  1.178270e+05       9.000000      0.000000      0.000000   \n50%       37.000000  1.783560e+05      10.000000      0.000000      0.000000   \n75%       48.000000  2.370510e+05      12.000000      0.000000      0.000000   \nmax       90.000000  1.484705e+06      16.000000  99999.000000   4356.000000   \n\n       hours-per-week  \ncount    32561.000000  \nmean        40.437456  \nstd         12.347429  \nmin          1.000000  \n25%         40.000000  \n50%         40.000000  \n75%         45.000000  \nmax         99.000000  ",
      "text/html": "<div>\n<style scoped>\n    .dataframe tbody tr th:only-of-type {\n        vertical-align: middle;\n    }\n\n    .dataframe tbody tr th {\n        vertical-align: top;\n    }\n\n    .dataframe thead th {\n        text-align: right;\n    }\n</style>\n<table border=\"1\" class=\"dataframe\">\n  <thead>\n    <tr style=\"text-align: right;\">\n      <th></th>\n      <th>age</th>\n      <th>fnlwgt</th>\n      <th>education-num</th>\n      <th>capital-gain</th>\n      <th>capital-loss</th>\n      <th>hours-per-week</th>\n    </tr>\n  </thead>\n  <tbody>\n    <tr>\n      <th>count</th>\n      <td>32561.000000</td>\n      <td>3.256100e+04</td>\n      <td>32561.000000</td>\n      <td>32561.000000</td>\n      <td>32561.000000</td>\n      <td>32561.000000</td>\n    </tr>\n    <tr>\n      <th>mean</th>\n      <td>38.581647</td>\n      <td>1.897784e+05</td>\n      <td>10.080679</td>\n      <td>1077.648844</td>\n      <td>87.303830</td>\n      <td>40.437456</td>\n    </tr>\n    <tr>\n      <th>std</th>\n      <td>13.640433</td>\n      <td>1.055500e+05</td>\n      <td>2.572720</td>\n      <td>7385.292085</td>\n      <td>402.960219</td>\n      <td>12.347429</td>\n    </tr>\n    <tr>\n      <th>min</th>\n      <td>17.000000</td>\n      <td>1.228500e+04</td>\n      <td>1.000000</td>\n      <td>0.000000</td>\n      <td>0.000000</td>\n      <td>1.000000</td>\n    </tr>\n    <tr>\n      <th>25%</th>\n      <td>28.000000</td>\n      <td>1.178270e+05</td>\n      <td>9.000000</td>\n      <td>0.000000</td>\n      <td>0.000000</td>\n      <td>40.000000</td>\n    </tr>\n    <tr>\n      <th>50%</th>\n      <td>37.000000</td>\n      <td>1.783560e+05</td>\n      <td>10.000000</td>\n      <td>0.000000</td>\n      <td>0.000000</td>\n      <td>40.000000</td>\n    </tr>\n    <tr>\n      <th>75%</th>\n      <td>48.000000</td>\n      <td>2.370510e+05</td>\n      <td>12.000000</td>\n      <td>0.000000</td>\n      <td>0.000000</td>\n      <td>45.000000</td>\n    </tr>\n    <tr>\n      <th>max</th>\n      <td>90.000000</td>\n      <td>1.484705e+06</td>\n      <td>16.000000</td>\n      <td>99999.000000</td>\n      <td>4356.000000</td>\n      <td>99.000000</td>\n    </tr>\n  </tbody>\n</table>\n</div>"
     },
     "metadata": {}
    }
   ],
   "execution_count": null
  },
  {
   "cell_type": "code",
   "metadata": {
    "cell_id": "30b2ba90d8df48d2b661364e61e64f53",
    "tags": [],
    "deepnote_to_be_reexecuted": false,
    "source_hash": "25d43fa0",
    "execution_start": 1659418396971,
    "execution_millis": 16,
    "deepnote_cell_type": "code",
    "deepnote_cell_height": 190,
    "deepnote_output_heights": [
     98
    ]
   },
   "source": "df.columns",
   "outputs": [
    {
     "output_type": "execute_result",
     "execution_count": 5,
     "data": {
      "text/plain": "Index(['age', 'workclass', 'fnlwgt', 'education', 'education-num',\n       'marital-status', 'occupation', 'relationship', 'race', 'sex',\n       'capital-gain', 'capital-loss', 'hours-per-week', 'native-country',\n       'salary'],\n      dtype='object')"
     },
     "metadata": {}
    }
   ],
   "execution_count": null
  },
  {
   "cell_type": "markdown",
   "source": "### Insights",
   "metadata": {
    "cell_id": "2afe35db18f340d3a3a25590ec41b0cb",
    "tags": [],
    "deepnote_cell_type": "markdown",
    "deepnote_cell_height": 62
   }
  },
  {
   "cell_type": "code",
   "source": "# Number of people of each race are represented in the dataset\n# df.groupby('race').race.count().sort_values(ascending=False) ## Alt approach\ndf.race.value_counts()",
   "metadata": {
    "cell_id": "1ec69c8c068e426e8315d41f752c5f20",
    "tags": [],
    "deepnote_to_be_reexecuted": false,
    "source_hash": "4ae7f31c",
    "execution_start": 1659418396993,
    "execution_millis": 28,
    "deepnote_cell_type": "code",
    "deepnote_cell_height": 245.1875,
    "deepnote_output_heights": [
     117.1875
    ]
   },
   "outputs": [
    {
     "output_type": "execute_result",
     "execution_count": 6,
     "data": {
      "text/plain": "White                 27816\nBlack                  3124\nAsian-Pac-Islander     1039\nAmer-Indian-Eskimo      311\nOther                   271\nName: race, dtype: int64"
     },
     "metadata": {}
    }
   ],
   "execution_count": null
  },
  {
   "cell_type": "code",
   "source": "# Number of each sex represented in the dataset\n# df.groupby('sex').sex.count() ## Alt approach\ndf.sex.value_counts()",
   "metadata": {
    "cell_id": "61118e0856f148c08ae69e1e6f8baad4",
    "tags": [],
    "deepnote_to_be_reexecuted": false,
    "source_hash": "e26c75e0",
    "execution_start": 1659418397025,
    "execution_millis": 26,
    "deepnote_cell_type": "code",
    "deepnote_cell_height": 188,
    "deepnote_output_heights": [
     59.59375
    ]
   },
   "outputs": [
    {
     "output_type": "execute_result",
     "execution_count": 7,
     "data": {
      "text/plain": "Male      21790\nFemale    10771\nName: sex, dtype: int64"
     },
     "metadata": {}
    }
   ],
   "execution_count": null
  },
  {
   "cell_type": "code",
   "source": "# Average age of men\n# df.loc[df['sex'] == 'Male'].age.mean() ## Alt approach\ndf[df['sex'] == 'Male'].age.mean()",
   "metadata": {
    "cell_id": "6d7116d628684b2a8bf8599a66827f60",
    "tags": [],
    "deepnote_to_be_reexecuted": false,
    "source_hash": "7eb72143",
    "execution_start": 1659418397058,
    "execution_millis": 30,
    "deepnote_cell_type": "code",
    "deepnote_cell_height": 149.1875,
    "deepnote_output_heights": [
     21.1875
    ]
   },
   "outputs": [
    {
     "output_type": "execute_result",
     "execution_count": 8,
     "data": {
      "text/plain": "39.43354749885268"
     },
     "metadata": {}
    }
   ],
   "execution_count": null
  },
  {
   "cell_type": "code",
   "metadata": {
    "cell_id": "5efb9dfa460d4381bcdec743117e6dae",
    "tags": [],
    "deepnote_to_be_reexecuted": false,
    "source_hash": "9ace40c7",
    "execution_start": 1659418397093,
    "execution_millis": 25,
    "deepnote_cell_type": "code",
    "deepnote_cell_height": 203.1875,
    "deepnote_output_heights": [
     21.1875
    ]
   },
   "source": "# Percentage of people who have a Bachelor's degree\n\n# bachelors_count = df.loc[df['education'] == 'Bachelors', 'education'].value_counts()\n# bachelors_count = len(df[df['education'] == 'Bachelors'])\nbachelors_count = (df['education'] == 'Bachelors').sum()\nbachelors_count/df.shape[0] * 100",
   "outputs": [
    {
     "output_type": "execute_result",
     "execution_count": 9,
     "data": {
      "text/plain": "16.44605509658794"
     },
     "metadata": {}
    }
   ],
   "execution_count": null
  },
  {
   "cell_type": "code",
   "metadata": {
    "cell_id": "4f7bc5c3a3d24d5091d84a9f65073e09",
    "tags": [],
    "deepnote_to_be_reexecuted": false,
    "source_hash": "dd10cfc9",
    "execution_start": 1659418397120,
    "execution_millis": 101,
    "deepnote_cell_type": "code",
    "deepnote_cell_height": 370.1875,
    "deepnote_output_heights": [
     21.1875
    ]
   },
   "source": "# Percentage of people with advanced education (Bachelors, Masters, or Doctorate) who make more than 50K\n\n# len(df[df['education'].map(lambda x: x == ('Bachelors' or  'Masters' or 'Doctorate'))])\n# df.loc[df['education'] == ('Bachelors' or 'Masters' or 'Doctorate'), 'salary'].value_counts(dropna=False)\n\nnum_high_bachelors_earners = df[(df.education == ('Bachelors')) & (df.salary == '>50K')].salary.count()\nnum_high_masters_earners = df[(df.education == 'Masters') & (df.salary == '>50K')].salary.count()\nnum_high_doctorate_earners = df[(df.education == 'Doctorate') & (df.salary == '>50K')].salary.count()\n\nnum_high_advanced_educated_earners = num_high_bachelors_earners + num_high_masters_earners + num_high_doctorate_earners\n\nnum_high_advanced_educated = df[df.education == 'Bachelors'].salary.count() + df[df.education == 'Masters'].salary.count() + df[df.education == 'Doctorate'].salary.count()\n\npercent_high_advanced_educated_earners = num_high_advanced_educated_earners/num_high_advanced_educated * 100\npercent_high_advanced_educated_earners",
   "outputs": [
    {
     "output_type": "execute_result",
     "execution_count": 10,
     "data": {
      "text/plain": "46.535843011613935"
     },
     "metadata": {}
    }
   ],
   "execution_count": null
  },
  {
   "cell_type": "code",
   "metadata": {
    "cell_id": "0b89ca92ff9b4e1da93d974b9ab663e4",
    "tags": [],
    "deepnote_to_be_reexecuted": false,
    "source_hash": "d2d4add1",
    "execution_start": 1659418397222,
    "execution_millis": 106,
    "deepnote_cell_type": "code",
    "deepnote_cell_height": 244.1875,
    "deepnote_output_heights": [
     21.1875
    ]
   },
   "source": "# Percentage of people without advanced education who make more than 50K\nnum_non_advanced_edcated = df[(df['education'] != 'Bachelors') & (df['education'] != 'Masters') & (df['education'] != 'Doctorate')].salary.count()\n\nnum_high_non_advanced_educated_earners = df[(df['education'] != 'Bachelors') & (df['education'] != 'Masters') & (df['education'] != 'Doctorate') & (df['salary'] == '>50K')].salary.count()\n\n\npercent_high_non_advanced_educated_earners = num_high_non_advanced_educated_earners/num_non_advanced_edcated * 100\npercent_high_non_advanced_educated_earners",
   "outputs": [
    {
     "output_type": "execute_result",
     "execution_count": 11,
     "data": {
      "text/plain": "17.3713601914639"
     },
     "metadata": {}
    }
   ],
   "execution_count": null
  },
  {
   "cell_type": "code",
   "metadata": {
    "cell_id": "673da0aff7a54cfeb0b106856293d41d",
    "tags": [],
    "deepnote_to_be_reexecuted": false,
    "source_hash": "81fe3c51",
    "execution_start": 1659418397352,
    "execution_millis": 51,
    "deepnote_cell_type": "code",
    "deepnote_cell_height": 190.1875,
    "deepnote_output_heights": [
     21.1875
    ]
   },
   "source": "num_low_non_advanced_educated_earners = df[(df['education'] != 'Bachelors') & (df['education'] != 'Masters') & (df['education'] != 'Doctorate') & (df['salary'] != '>50K')].salary.count()\n\npercent_low_non_advanced_educated_earners = num_low_non_advanced_educated_earners/num_non_advanced_edcated * 100\n\npercent_low_non_advanced_educated_earners",
   "outputs": [
    {
     "output_type": "execute_result",
     "execution_count": 12,
     "data": {
      "text/plain": "82.6286398085361"
     },
     "metadata": {}
    }
   ],
   "execution_count": null
  },
  {
   "cell_type": "code",
   "metadata": {
    "cell_id": "db315c86c0eb465491eedb2cc9ff4669",
    "tags": [],
    "deepnote_to_be_reexecuted": false,
    "source_hash": "e1713c37",
    "execution_start": 1659418397411,
    "execution_millis": 19,
    "deepnote_cell_type": "code",
    "deepnote_cell_height": 149.1875,
    "deepnote_output_heights": [
     21.1875
    ]
   },
   "source": "# Minimum number of hours a person works per week\nmin_work_hours = df['hours-per-week'].min()\nmin_work_hours",
   "outputs": [
    {
     "output_type": "execute_result",
     "execution_count": 13,
     "data": {
      "text/plain": "1"
     },
     "metadata": {}
    }
   ],
   "execution_count": null
  },
  {
   "cell_type": "markdown",
   "source": "##### Additional Insights",
   "metadata": {
    "cell_id": "8d28933ad84b49b6a2c9b03585491dd0",
    "tags": [],
    "deepnote_cell_type": "markdown",
    "deepnote_cell_height": 54
   }
  },
  {
   "cell_type": "code",
   "metadata": {
    "cell_id": "1b5345c410b049d7ad70300aa65de45d",
    "tags": [],
    "deepnote_to_be_reexecuted": false,
    "source_hash": "327ffb12",
    "execution_start": 1659418397438,
    "execution_millis": 18,
    "deepnote_cell_type": "code",
    "deepnote_cell_height": 131.1875,
    "deepnote_output_heights": [
     21.1875
    ]
   },
   "source": "# Maximum number of hours a person works per week\ndf['hours-per-week'].max()",
   "outputs": [
    {
     "output_type": "execute_result",
     "execution_count": 14,
     "data": {
      "text/plain": "99"
     },
     "metadata": {}
    }
   ],
   "execution_count": null
  },
  {
   "cell_type": "code",
   "metadata": {
    "cell_id": "4dc6a0fa372c41709c5195a7623de596",
    "tags": [],
    "deepnote_to_be_reexecuted": false,
    "source_hash": "44d66b51",
    "execution_start": 1659418397465,
    "execution_millis": 65,
    "deepnote_cell_type": "code",
    "deepnote_cell_height": 131.1875,
    "deepnote_output_heights": [
     21.1875
    ]
   },
   "source": "# Average number of hours a person works per week\ndf['hours-per-week'].mean()",
   "outputs": [
    {
     "output_type": "execute_result",
     "execution_count": 15,
     "data": {
      "text/plain": "40.437455852092995"
     },
     "metadata": {}
    }
   ],
   "execution_count": null
  },
  {
   "cell_type": "markdown",
   "source": "#### Back to the main topic",
   "metadata": {
    "cell_id": "1f6710b5290b47d3b604937b9c9e8064",
    "tags": [],
    "deepnote_cell_type": "markdown",
    "deepnote_cell_height": 54
   }
  },
  {
   "cell_type": "code",
   "metadata": {
    "cell_id": "63825237e28447908a79c115072efa3e",
    "tags": [],
    "deepnote_to_be_reexecuted": false,
    "source_hash": "7feee1f6",
    "execution_start": 1659418397529,
    "execution_millis": 2,
    "deepnote_cell_type": "code",
    "deepnote_cell_height": 226.1875,
    "deepnote_output_heights": [
     21.1875
    ]
   },
   "source": "# Percentage of the people who work the minimum number of hours per week who have a salary of more than 50K\nnum_min_workers = df[df['hours-per-week'] == min_work_hours]\n\nnum_min_workers_salary_over50 = df[(df['hours-per-week'] == min_work_hours) & (df['salary'] == '>50K')]\n\npercent_min_workers_aslary_over50 = num_min_workers_salary_over50.salary.count()/num_min_workers.salary.count() * 100\npercent_min_workers_aslary_over50",
   "outputs": [
    {
     "output_type": "execute_result",
     "execution_count": 16,
     "data": {
      "text/plain": "10.0"
     },
     "metadata": {}
    }
   ],
   "execution_count": null
  },
  {
   "cell_type": "code",
   "metadata": {
    "cell_id": "86917e444720480b97e3b3b77be49289",
    "tags": [],
    "deepnote_to_be_reexecuted": false,
    "source_hash": "dc493662",
    "execution_start": 1659418397574,
    "execution_millis": 45,
    "deepnote_cell_type": "code",
    "deepnote_cell_height": 829,
    "deepnote_output_heights": [
     611
    ]
   },
   "source": "# Percentage of people earning salary over 50k by country\n\n# num_salary_over50_by_country = df[df['salary'] == '>50K']['native-country'].value_counts()\nnum_salary_over50_by_country = df[df['salary'] == '>50K'].groupby('native-country')['salary'].count()\n\nnum_by_country = df['native-country'].value_counts()\npercent_salary_over50_by_country = num_salary_over50_by_country/num_by_country * 100\npercent_salary_over50_by_country.sort_values(ascending=False)",
   "outputs": [
    {
     "output_type": "execute_result",
     "execution_count": 17,
     "data": {
      "text/plain": "Iran                          41.860465\nFrance                        41.379310\nIndia                         40.000000\nTaiwan                        39.215686\nJapan                         38.709677\nYugoslavia                    37.500000\nCambodia                      36.842105\nItaly                         34.246575\nEngland                       33.333333\nCanada                        32.231405\nGermany                       32.116788\nPhilippines                   30.808081\nHong                          30.000000\nGreece                        27.586207\nChina                         26.666667\nCuba                          26.315789\n?                             25.042882\nScotland                      25.000000\nUnited-States                 24.583476\nHungary                       23.076923\nIreland                       20.833333\nSouth                         20.000000\nPoland                        20.000000\nThailand                      16.666667\nEcuador                       14.285714\nJamaica                       12.345679\nLaos                          11.111111\nPortugal                      10.810811\nPuerto-Rico                   10.526316\nTrinadad&Tobago               10.526316\nHaiti                          9.090909\nEl-Salvador                    8.490566\nHonduras                       7.692308\nVietnam                        7.462687\nPeru                           6.451613\nNicaragua                      5.882353\nMexico                         5.132193\nGuatemala                      4.687500\nColumbia                       3.389831\nDominican-Republic             2.857143\nHoland-Netherlands                  NaN\nOutlying-US(Guam-USVI-etc)          NaN\ndtype: float64"
     },
     "metadata": {}
    }
   ],
   "execution_count": null
  },
  {
   "cell_type": "code",
   "metadata": {
    "cell_id": "13130923737b4088bb3778df564e30c3",
    "tags": [],
    "deepnote_to_be_reexecuted": false,
    "source_hash": "56a13007",
    "execution_start": 1659418397618,
    "execution_millis": 0,
    "deepnote_cell_type": "code",
    "deepnote_cell_height": 125
   },
   "source": "# Country that has the highest percentage of people that earn >50K and the percentage\nprint(percent_salary_over50_by_country.idxmax(), percent_salary_over50_by_country.max())",
   "outputs": [
    {
     "name": "stdout",
     "text": "Iran 41.86046511627907\n",
     "output_type": "stream"
    }
   ],
   "execution_count": null
  },
  {
   "cell_type": "code",
   "metadata": {
    "cell_id": "b6fc174d65d84cb4a60b5da0f2b7e069",
    "tags": [],
    "deepnote_to_be_reexecuted": false,
    "source_hash": "9615fa6a",
    "execution_start": 1659418397619,
    "execution_millis": 44,
    "deepnote_cell_type": "code",
    "deepnote_cell_height": 149.1875,
    "deepnote_output_heights": [
     21.1875
    ]
   },
   "source": "# Most popular occupation for those who earn >50K in India\ntop_demographics_over50_india = df[(df['salary'] == '>50K') & (df['native-country'] == 'India')]\ntop_demographics_over50_india.occupation.value_counts().idxmax()",
   "outputs": [
    {
     "output_type": "execute_result",
     "execution_count": 19,
     "data": {
      "text/plain": "'Prof-specialty'"
     },
     "metadata": {}
    }
   ],
   "execution_count": null
  },
  {
   "cell_type": "markdown",
   "source": "<a style='text-decoration:none;line-height:16px;display:flex;color:#5B5B62;padding:10px;justify-content:end;' href='https://deepnote.com?utm_source=created-in-deepnote-cell&projectId=67830035-8b85-459b-8213-52c1ff5a6b3a' target=\"_blank\">\n<img alt='Created in deepnote.com' style='display:inline;max-height:16px;margin:0px;margin-right:7.5px;' src='data:image/svg+xml;base64,PD94bWwgdmVyc2lvbj0iMS4wIiBlbmNvZGluZz0iVVRGLTgiPz4KPHN2ZyB3aWR0aD0iODBweCIgaGVpZ2h0PSI4MHB4IiB2aWV3Qm94PSIwIDAgODAgODAiIHZlcnNpb249IjEuMSIgeG1sbnM9Imh0dHA6Ly93d3cudzMub3JnLzIwMDAvc3ZnIiB4bWxuczp4bGluaz0iaHR0cDovL3d3dy53My5vcmcvMTk5OS94bGluayI+CiAgICA8IS0tIEdlbmVyYXRvcjogU2tldGNoIDU0LjEgKDc2NDkwKSAtIGh0dHBzOi8vc2tldGNoYXBwLmNvbSAtLT4KICAgIDx0aXRsZT5Hcm91cCAzPC90aXRsZT4KICAgIDxkZXNjPkNyZWF0ZWQgd2l0aCBTa2V0Y2guPC9kZXNjPgogICAgPGcgaWQ9IkxhbmRpbmciIHN0cm9rZT0ibm9uZSIgc3Ryb2tlLXdpZHRoPSIxIiBmaWxsPSJub25lIiBmaWxsLXJ1bGU9ImV2ZW5vZGQiPgogICAgICAgIDxnIGlkPSJBcnRib2FyZCIgdHJhbnNmb3JtPSJ0cmFuc2xhdGUoLTEyMzUuMDAwMDAwLCAtNzkuMDAwMDAwKSI+CiAgICAgICAgICAgIDxnIGlkPSJHcm91cC0zIiB0cmFuc2Zvcm09InRyYW5zbGF0ZSgxMjM1LjAwMDAwMCwgNzkuMDAwMDAwKSI+CiAgICAgICAgICAgICAgICA8cG9seWdvbiBpZD0iUGF0aC0yMCIgZmlsbD0iIzAyNjVCNCIgcG9pbnRzPSIyLjM3NjIzNzYyIDgwIDM4LjA0NzY2NjcgODAgNTcuODIxNzgyMiA3My44MDU3NTkyIDU3LjgyMTc4MjIgMzIuNzU5MjczOSAzOS4xNDAyMjc4IDMxLjY4MzE2ODMiPjwvcG9seWdvbj4KICAgICAgICAgICAgICAgIDxwYXRoIGQ9Ik0zNS4wMDc3MTgsODAgQzQyLjkwNjIwMDcsNzYuNDU0OTM1OCA0Ny41NjQ5MTY3LDcxLjU0MjI2NzEgNDguOTgzODY2LDY1LjI2MTk5MzkgQzUxLjExMjI4OTksNTUuODQxNTg0MiA0MS42NzcxNzk1LDQ5LjIxMjIyODQgMjUuNjIzOTg0Niw0OS4yMTIyMjg0IEMyNS40ODQ5Mjg5LDQ5LjEyNjg0NDggMjkuODI2MTI5Niw0My4yODM4MjQ4IDM4LjY0NzU4NjksMzEuNjgzMTY4MyBMNzIuODcxMjg3MSwzMi41NTQ0MjUgTDY1LjI4MDk3Myw2Ny42NzYzNDIxIEw1MS4xMTIyODk5LDc3LjM3NjE0NCBMMzUuMDA3NzE4LDgwIFoiIGlkPSJQYXRoLTIyIiBmaWxsPSIjMDAyODY4Ij48L3BhdGg+CiAgICAgICAgICAgICAgICA8cGF0aCBkPSJNMCwzNy43MzA0NDA1IEwyNy4xMTQ1MzcsMC4yNTcxMTE0MzYgQzYyLjM3MTUxMjMsLTEuOTkwNzE3MDEgODAsMTAuNTAwMzkyNyA4MCwzNy43MzA0NDA1IEM4MCw2NC45NjA0ODgyIDY0Ljc3NjUwMzgsNzkuMDUwMzQxNCAzNC4zMjk1MTEzLDgwIEM0Ny4wNTUzNDg5LDc3LjU2NzA4MDggNTMuNDE4MjY3Nyw3MC4zMTM2MTAzIDUzLjQxODI2NzcsNTguMjM5NTg4NSBDNTMuNDE4MjY3Nyw0MC4xMjg1NTU3IDM2LjMwMzk1NDQsMzcuNzMwNDQwNSAyNS4yMjc0MTcsMzcuNzMwNDQwNSBDMTcuODQzMDU4NiwzNy43MzA0NDA1IDkuNDMzOTE5NjYsMzcuNzMwNDQwNSAwLDM3LjczMDQ0MDUgWiIgaWQ9IlBhdGgtMTkiIGZpbGw9IiMzNzkzRUYiPjwvcGF0aD4KICAgICAgICAgICAgPC9nPgogICAgICAgIDwvZz4KICAgIDwvZz4KPC9zdmc+' > </img>\nCreated in <span style='font-weight:600;margin-left:4px;'>Deepnote</span></a>",
   "metadata": {
    "tags": [],
    "created_in_deepnote_cell": true,
    "deepnote_cell_type": "markdown"
   }
  }
 ],
 "nbformat": 4,
 "nbformat_minor": 2,
 "metadata": {
  "orig_nbformat": 2,
  "deepnote": {},
  "deepnote_notebook_id": "e01083cf-3c3e-4ba1-acd6-ec5ab49f9c4c",
  "deepnote_execution_queue": []
 }
}